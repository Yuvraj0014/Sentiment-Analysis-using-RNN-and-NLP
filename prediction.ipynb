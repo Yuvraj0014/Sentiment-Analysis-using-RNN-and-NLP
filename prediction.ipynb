{
 "cells": [
  {
   "cell_type": "code",
   "execution_count": 11,
   "metadata": {},
   "outputs": [],
   "source": [
    "import numpy as np\n",
    "import tensorflow as tf\n",
    "from tensorflow.keras.datasets import imdb\n",
    "from tensorflow.keras.preprocessing import  sequence\n",
    "from tensorflow.keras.models import load_model"
   ]
  },
  {
   "cell_type": "code",
   "execution_count": 12,
   "metadata": {},
   "outputs": [],
   "source": [
    "# Load the IMDB dataset word index\n",
    "word_index= imdb.get_word_index()\n",
    "reverse_word_index={value : key for  key, value in word_index.items()}"
   ]
  },
  {
   "cell_type": "code",
   "execution_count": 13,
   "metadata": {},
   "outputs": [
    {
     "name": "stderr",
     "output_type": "stream",
     "text": [
      "WARNING:absl:Compiled the loaded model, but the compiled metrics have yet to be built. `model.compile_metrics` will be empty until you train or evaluate the model.\n"
     ]
    }
   ],
   "source": [
    "# Load the pre-trained model with ReLU activation \n",
    "model = load_model('simple_rnn_imdb.h5')"
   ]
  },
  {
   "cell_type": "code",
   "execution_count": 14,
   "metadata": {},
   "outputs": [
    {
     "data": {
      "text/html": [
       "<pre style=\"white-space:pre;overflow-x:auto;line-height:normal;font-family:Menlo,'DejaVu Sans Mono',consolas,'Courier New',monospace\"><span style=\"font-weight: bold\">Model: \"sequential_1\"</span>\n",
       "</pre>\n"
      ],
      "text/plain": [
       "\u001b[1mModel: \"sequential_1\"\u001b[0m\n"
      ]
     },
     "metadata": {},
     "output_type": "display_data"
    },
    {
     "data": {
      "text/html": [
       "<pre style=\"white-space:pre;overflow-x:auto;line-height:normal;font-family:Menlo,'DejaVu Sans Mono',consolas,'Courier New',monospace\">┏━━━━━━━━━━━━━━━━━━━━━━━━━━━━━━━━━┳━━━━━━━━━━━━━━━━━━━━━━━━┳━━━━━━━━━━━━━━━┓\n",
       "┃<span style=\"font-weight: bold\"> Layer (type)                    </span>┃<span style=\"font-weight: bold\"> Output Shape           </span>┃<span style=\"font-weight: bold\">       Param # </span>┃\n",
       "┡━━━━━━━━━━━━━━━━━━━━━━━━━━━━━━━━━╇━━━━━━━━━━━━━━━━━━━━━━━━╇━━━━━━━━━━━━━━━┩\n",
       "│ embedding_1 (<span style=\"color: #0087ff; text-decoration-color: #0087ff\">Embedding</span>)         │ (<span style=\"color: #00af00; text-decoration-color: #00af00\">32</span>, <span style=\"color: #00af00; text-decoration-color: #00af00\">500</span>, <span style=\"color: #00af00; text-decoration-color: #00af00\">130</span>)         │     <span style=\"color: #00af00; text-decoration-color: #00af00\">1,300,000</span> │\n",
       "├─────────────────────────────────┼────────────────────────┼───────────────┤\n",
       "│ simple_rnn_1 (<span style=\"color: #0087ff; text-decoration-color: #0087ff\">SimpleRNN</span>)        │ (<span style=\"color: #00af00; text-decoration-color: #00af00\">32</span>, <span style=\"color: #00af00; text-decoration-color: #00af00\">130</span>)              │        <span style=\"color: #00af00; text-decoration-color: #00af00\">33,930</span> │\n",
       "├─────────────────────────────────┼────────────────────────┼───────────────┤\n",
       "│ dense_1 (<span style=\"color: #0087ff; text-decoration-color: #0087ff\">Dense</span>)                 │ (<span style=\"color: #00af00; text-decoration-color: #00af00\">32</span>, <span style=\"color: #00af00; text-decoration-color: #00af00\">1</span>)                │           <span style=\"color: #00af00; text-decoration-color: #00af00\">131</span> │\n",
       "└─────────────────────────────────┴────────────────────────┴───────────────┘\n",
       "</pre>\n"
      ],
      "text/plain": [
       "┏━━━━━━━━━━━━━━━━━━━━━━━━━━━━━━━━━┳━━━━━━━━━━━━━━━━━━━━━━━━┳━━━━━━━━━━━━━━━┓\n",
       "┃\u001b[1m \u001b[0m\u001b[1mLayer (type)                   \u001b[0m\u001b[1m \u001b[0m┃\u001b[1m \u001b[0m\u001b[1mOutput Shape          \u001b[0m\u001b[1m \u001b[0m┃\u001b[1m \u001b[0m\u001b[1m      Param #\u001b[0m\u001b[1m \u001b[0m┃\n",
       "┡━━━━━━━━━━━━━━━━━━━━━━━━━━━━━━━━━╇━━━━━━━━━━━━━━━━━━━━━━━━╇━━━━━━━━━━━━━━━┩\n",
       "│ embedding_1 (\u001b[38;5;33mEmbedding\u001b[0m)         │ (\u001b[38;5;34m32\u001b[0m, \u001b[38;5;34m500\u001b[0m, \u001b[38;5;34m130\u001b[0m)         │     \u001b[38;5;34m1,300,000\u001b[0m │\n",
       "├─────────────────────────────────┼────────────────────────┼───────────────┤\n",
       "│ simple_rnn_1 (\u001b[38;5;33mSimpleRNN\u001b[0m)        │ (\u001b[38;5;34m32\u001b[0m, \u001b[38;5;34m130\u001b[0m)              │        \u001b[38;5;34m33,930\u001b[0m │\n",
       "├─────────────────────────────────┼────────────────────────┼───────────────┤\n",
       "│ dense_1 (\u001b[38;5;33mDense\u001b[0m)                 │ (\u001b[38;5;34m32\u001b[0m, \u001b[38;5;34m1\u001b[0m)                │           \u001b[38;5;34m131\u001b[0m │\n",
       "└─────────────────────────────────┴────────────────────────┴───────────────┘\n"
      ]
     },
     "metadata": {},
     "output_type": "display_data"
    },
    {
     "data": {
      "text/html": [
       "<pre style=\"white-space:pre;overflow-x:auto;line-height:normal;font-family:Menlo,'DejaVu Sans Mono',consolas,'Courier New',monospace\"><span style=\"font-weight: bold\"> Total params: </span><span style=\"color: #00af00; text-decoration-color: #00af00\">1,334,063</span> (5.09 MB)\n",
       "</pre>\n"
      ],
      "text/plain": [
       "\u001b[1m Total params: \u001b[0m\u001b[38;5;34m1,334,063\u001b[0m (5.09 MB)\n"
      ]
     },
     "metadata": {},
     "output_type": "display_data"
    },
    {
     "data": {
      "text/html": [
       "<pre style=\"white-space:pre;overflow-x:auto;line-height:normal;font-family:Menlo,'DejaVu Sans Mono',consolas,'Courier New',monospace\"><span style=\"font-weight: bold\"> Trainable params: </span><span style=\"color: #00af00; text-decoration-color: #00af00\">1,334,061</span> (5.09 MB)\n",
       "</pre>\n"
      ],
      "text/plain": [
       "\u001b[1m Trainable params: \u001b[0m\u001b[38;5;34m1,334,061\u001b[0m (5.09 MB)\n"
      ]
     },
     "metadata": {},
     "output_type": "display_data"
    },
    {
     "data": {
      "text/html": [
       "<pre style=\"white-space:pre;overflow-x:auto;line-height:normal;font-family:Menlo,'DejaVu Sans Mono',consolas,'Courier New',monospace\"><span style=\"font-weight: bold\"> Non-trainable params: </span><span style=\"color: #00af00; text-decoration-color: #00af00\">0</span> (0.00 B)\n",
       "</pre>\n"
      ],
      "text/plain": [
       "\u001b[1m Non-trainable params: \u001b[0m\u001b[38;5;34m0\u001b[0m (0.00 B)\n"
      ]
     },
     "metadata": {},
     "output_type": "display_data"
    },
    {
     "data": {
      "text/html": [
       "<pre style=\"white-space:pre;overflow-x:auto;line-height:normal;font-family:Menlo,'DejaVu Sans Mono',consolas,'Courier New',monospace\"><span style=\"font-weight: bold\"> Optimizer params: </span><span style=\"color: #00af00; text-decoration-color: #00af00\">2</span> (12.00 B)\n",
       "</pre>\n"
      ],
      "text/plain": [
       "\u001b[1m Optimizer params: \u001b[0m\u001b[38;5;34m2\u001b[0m (12.00 B)\n"
      ]
     },
     "metadata": {},
     "output_type": "display_data"
    }
   ],
   "source": [
    "model.summary()"
   ]
  },
  {
   "cell_type": "code",
   "execution_count": 15,
   "metadata": {},
   "outputs": [
    {
     "data": {
      "text/plain": [
       "[array([[-0.15091245, -0.14042649, -0.13581835, ..., -0.00877642,\n",
       "          0.17305532, -0.01858407],\n",
       "        [-0.05271798,  0.02255429, -0.03546018, ..., -0.00412825,\n",
       "          0.01355889, -0.02643815],\n",
       "        [-0.18401258, -0.12916058, -0.19033644, ..., -0.07387543,\n",
       "          0.08655238, -0.054947  ],\n",
       "        ...,\n",
       "        [ 0.03201784,  0.02071729,  0.04256786, ...,  0.02193845,\n",
       "          0.01555055, -0.01605953],\n",
       "        [ 0.03015584, -0.03123607, -0.03325531, ...,  0.02467852,\n",
       "         -0.0009185 ,  0.03179793],\n",
       "        [-0.0360674 ,  0.032026  ,  0.0173026 , ...,  0.04744849,\n",
       "          0.02566885,  0.04208807]], dtype=float32),\n",
       " array([[ 0.12452634, -0.03111862,  0.06771428, ...,  0.16559647,\n",
       "          0.13967314,  0.06295703],\n",
       "        [ 0.0179588 , -0.07009142,  0.14322692, ..., -0.0338009 ,\n",
       "          0.19731396, -0.17514035],\n",
       "        [ 0.00401439, -0.05832492, -0.01709492, ..., -0.00359069,\n",
       "         -0.03405684, -0.04590297],\n",
       "        ...,\n",
       "        [ 0.13168852, -0.1510127 ,  0.05566589, ...,  0.13991155,\n",
       "         -0.00429095,  0.12226964],\n",
       "        [-0.13560125,  0.00720681,  0.15607521, ...,  0.09504312,\n",
       "         -0.15385987,  0.08241004],\n",
       "        [-0.05898245, -0.14588661, -0.18139635, ..., -0.06381047,\n",
       "          0.09679946,  0.15617318]], dtype=float32),\n",
       " array([[ 0.08448549, -0.02093581,  0.05075914, ...,  0.00573049,\n",
       "         -0.09999784, -0.0959814 ],\n",
       "        [-0.16176902,  0.02242046,  0.10693108, ..., -0.11916435,\n",
       "         -0.17613229, -0.08884575],\n",
       "        [-0.06304628, -0.24312146, -0.12340005, ..., -0.09812927,\n",
       "         -0.14919779,  0.02592719],\n",
       "        ...,\n",
       "        [ 0.18457393,  0.07206243,  0.13582623, ...,  0.02132505,\n",
       "          0.00223101, -0.02098457],\n",
       "        [ 0.06519764, -0.18692727,  0.08538833, ...,  0.04173423,\n",
       "         -0.1837766 ,  0.15300384],\n",
       "        [-0.00572795, -0.02385245,  0.06415159, ...,  0.18334481,\n",
       "          0.08323036, -0.11143655]], dtype=float32),\n",
       " array([-0.04285028,  0.00193246,  0.00778821, -0.01667476, -0.0249666 ,\n",
       "        -0.01762949,  0.01393517, -0.0556742 , -0.01377277,  0.00302632,\n",
       "         0.0114024 , -0.04128901, -0.03738194, -0.01877371, -0.04270198,\n",
       "        -0.02679379, -0.02102282, -0.02068586, -0.03163696, -0.04776231,\n",
       "        -0.02496527, -0.03664025, -0.01636597,  0.01650326,  0.02065223,\n",
       "        -0.02503843, -0.02520745,  0.0067329 , -0.01057721, -0.0171155 ,\n",
       "        -0.02646536, -0.03463697, -0.01139212, -0.01103892, -0.04845999,\n",
       "        -0.02268779, -0.00771898,  0.02654137, -0.0104663 , -0.02852386,\n",
       "         0.01205311, -0.03210188,  0.03940089, -0.03367367, -0.03565075,\n",
       "        -0.02734559,  0.00504174, -0.00579722, -0.02514142, -0.00379145,\n",
       "         0.00309259, -0.00768797, -0.03560936, -0.02057191,  0.01989963,\n",
       "         0.01640305,  0.00946187,  0.00676188,  0.02088645, -0.04094757,\n",
       "        -0.0218207 ,  0.05353363, -0.03607009, -0.04073294, -0.03545391,\n",
       "        -0.01982439, -0.04832489,  0.03395056, -0.05657081, -0.0437487 ,\n",
       "         0.00488038, -0.01945102,  0.00719436, -0.00784254,  0.00367757,\n",
       "         0.00269669,  0.00200718, -0.01779189, -0.04725618, -0.03739111,\n",
       "        -0.01167383,  0.00069348,  0.01844654,  0.01143117,  0.00683625,\n",
       "         0.03164872, -0.00115767, -0.0008428 , -0.02712045, -0.0028167 ,\n",
       "        -0.01391704, -0.03531689, -0.03060772, -0.03173307, -0.03742831,\n",
       "        -0.01249772, -0.00474738, -0.01366429, -0.01559316, -0.00236831,\n",
       "        -0.00506767,  0.01824954, -0.0162546 ,  0.01938148,  0.01934498,\n",
       "        -0.0214793 ,  0.00675047,  0.01208397, -0.01882025, -0.02144921,\n",
       "        -0.00910297, -0.01370979, -0.01136143, -0.00306991,  0.00882344,\n",
       "         0.0125514 ,  0.04488461, -0.00867269,  0.03718985,  0.04720384,\n",
       "        -0.0146328 , -0.03605419, -0.00315306, -0.00340565,  0.01293982,\n",
       "        -0.01015292, -0.01451516, -0.02865637, -0.03593713, -0.0571064 ],\n",
       "       dtype=float32),\n",
       " array([[ 0.05672859],\n",
       "        [ 0.02476153],\n",
       "        [-0.0924444 ],\n",
       "        [ 0.20139915],\n",
       "        [ 0.04987839],\n",
       "        [ 0.23144561],\n",
       "        [ 0.02547722],\n",
       "        [ 0.0860235 ],\n",
       "        [ 0.12094965],\n",
       "        [ 0.16533254],\n",
       "        [-0.13892037],\n",
       "        [ 0.30482242],\n",
       "        [ 0.16786146],\n",
       "        [ 0.24559063],\n",
       "        [ 0.165342  ],\n",
       "        [-0.00253049],\n",
       "        [ 0.0697311 ],\n",
       "        [-0.13909927],\n",
       "        [ 0.21817742],\n",
       "        [ 0.06936835],\n",
       "        [ 0.11751238],\n",
       "        [ 0.09191849],\n",
       "        [ 0.10431061],\n",
       "        [-0.04696367],\n",
       "        [ 0.21229582],\n",
       "        [-0.04697826],\n",
       "        [ 0.20040749],\n",
       "        [ 0.12502211],\n",
       "        [-0.3900678 ],\n",
       "        [ 0.08815208],\n",
       "        [-0.001903  ],\n",
       "        [ 0.17847773],\n",
       "        [-0.02824433],\n",
       "        [ 0.3163983 ],\n",
       "        [ 0.09444087],\n",
       "        [ 0.05574608],\n",
       "        [ 0.07181732],\n",
       "        [ 0.01773385],\n",
       "        [ 0.13281448],\n",
       "        [ 0.07371411],\n",
       "        [ 0.24686292],\n",
       "        [ 0.09329535],\n",
       "        [-0.14101553],\n",
       "        [ 0.02935486],\n",
       "        [ 0.11813943],\n",
       "        [ 0.1551942 ],\n",
       "        [ 0.13479815],\n",
       "        [-0.10681962],\n",
       "        [ 0.05897458],\n",
       "        [ 0.15875614],\n",
       "        [-0.22240523],\n",
       "        [-0.06476982],\n",
       "        [ 0.13230179],\n",
       "        [-0.09516455],\n",
       "        [-0.16201499],\n",
       "        [-0.06970689],\n",
       "        [-0.07554056],\n",
       "        [ 0.20963302],\n",
       "        [-0.13489132],\n",
       "        [ 0.01051904],\n",
       "        [ 0.11670077],\n",
       "        [-0.00363049],\n",
       "        [ 0.17621686],\n",
       "        [ 0.07716745],\n",
       "        [ 0.14667884],\n",
       "        [-0.12937394],\n",
       "        [-0.21058255],\n",
       "        [ 0.11198831],\n",
       "        [-0.07944857],\n",
       "        [ 0.19118378],\n",
       "        [-0.08383803],\n",
       "        [ 0.11047444],\n",
       "        [ 0.21750858],\n",
       "        [ 0.31560457],\n",
       "        [-0.08377496],\n",
       "        [-0.00188543],\n",
       "        [ 0.19835575],\n",
       "        [ 0.17714621],\n",
       "        [ 0.16306461],\n",
       "        [-0.22164924],\n",
       "        [ 0.22027326],\n",
       "        [-0.16750799],\n",
       "        [-0.18519104],\n",
       "        [ 0.10609771],\n",
       "        [ 0.00081536],\n",
       "        [ 0.01048486],\n",
       "        [ 0.25644642],\n",
       "        [ 0.20134945],\n",
       "        [-0.31722566],\n",
       "        [-0.0127929 ],\n",
       "        [ 0.22972575],\n",
       "        [ 0.14259829],\n",
       "        [ 0.13855043],\n",
       "        [-0.18775782],\n",
       "        [-0.04023516],\n",
       "        [ 0.17459251],\n",
       "        [ 0.17372711],\n",
       "        [-0.05029054],\n",
       "        [ 0.19727331],\n",
       "        [-0.2342451 ],\n",
       "        [ 0.05742153],\n",
       "        [-0.06924014],\n",
       "        [ 0.04630245],\n",
       "        [-0.08880834],\n",
       "        [ 0.12830777],\n",
       "        [ 0.03090025],\n",
       "        [-0.028788  ],\n",
       "        [ 0.12911   ],\n",
       "        [ 0.19238077],\n",
       "        [ 0.10191251],\n",
       "        [ 0.18589813],\n",
       "        [ 0.18985492],\n",
       "        [ 0.26541874],\n",
       "        [ 0.1893609 ],\n",
       "        [-0.160688  ],\n",
       "        [ 0.21843939],\n",
       "        [ 0.17943616],\n",
       "        [ 0.21105772],\n",
       "        [ 0.08626553],\n",
       "        [-0.21122323],\n",
       "        [ 0.04305404],\n",
       "        [-0.16816819],\n",
       "        [-0.03416274],\n",
       "        [-0.11465142],\n",
       "        [-0.147924  ],\n",
       "        [ 0.3694644 ],\n",
       "        [ 0.5218602 ],\n",
       "        [ 0.09912024],\n",
       "        [ 0.14729305],\n",
       "        [ 0.17123543]], dtype=float32),\n",
       " array([0.6590022], dtype=float32)]"
      ]
     },
     "execution_count": 15,
     "metadata": {},
     "output_type": "execute_result"
    }
   ],
   "source": [
    "# Incase of you want to see the wrights\n",
    "model.get_weights()"
   ]
  },
  {
   "cell_type": "code",
   "execution_count": 16,
   "metadata": {},
   "outputs": [],
   "source": [
    "def decode_review(encoded_review):\n",
    "    return ' '.join([reverse_word_index.get(i-3, '?') for i in encoded_review])\n",
    "\n",
    "# Function to preprocess user inputs\n",
    "def preprocess_text(text):\n",
    "    words=text.lower().split()\n",
    "    encoded_review=[word_index.get(word, 2)+3 for word in words] \n",
    "    padded_review=sequence.pad_sequences([encoded_review], maxlen=500)\n",
    "    return padded_review"
   ]
  },
  {
   "cell_type": "code",
   "execution_count": null,
   "metadata": {},
   "outputs": [],
   "source": [
    "# Prediction function \n",
    "def predict_sentiment(review):\n",
    "    preprocessed_input=preprocess_text(review)\n",
    "    prediction=model.predict(preprocessed_input)\n",
    "    sentiment=\"Positive\" if prediction[0][0]>0.6 else \"Negative\"\n",
    "    return sentiment,  prediction[0][0]"
   ]
  },
  {
   "cell_type": "code",
   "execution_count": 18,
   "metadata": {},
   "outputs": [
    {
     "name": "stdout",
     "output_type": "stream",
     "text": [
      "\u001b[1m1/1\u001b[0m \u001b[32m━━━━━━━━━━━━━━━━━━━━\u001b[0m\u001b[37m\u001b[0m \u001b[1m0s\u001b[0m 343ms/step\n",
      "Review : The movie was fantastic and the acting was great and the story was thrilling\n",
      "Sentiment : Positive\n",
      "Prediction Score : 0.7333030700683594\n"
     ]
    }
   ],
   "source": [
    "\n",
    "example_review=\"The movie was fantastic and the acting was great and the story was thrilling\"\n",
    "\n",
    "sentiment,score=predict_sentiment(example_review)\n",
    "\n",
    "print(f\"Review : {example_review}\")\n",
    "print(f\"Sentiment : {sentiment}\")\n",
    "print(f\"Prediction Score : {score}\")"
   ]
  },
  {
   "cell_type": "code",
   "execution_count": 22,
   "metadata": {},
   "outputs": [
    {
     "name": "stdout",
     "output_type": "stream",
     "text": [
      "\u001b[1m1/1\u001b[0m \u001b[32m━━━━━━━━━━━━━━━━━━━━\u001b[0m\u001b[37m\u001b[0m \u001b[1m0s\u001b[0m 43ms/step\n",
      "Review : the movie is bad\n",
      "Sentiment : Positive\n",
      "Prediction Score : 0.5031353235244751\n"
     ]
    }
   ],
   "source": [
    "\n",
    "example_review=\"the movie is bad\"\n",
    "\n",
    "sentiment,score=predict_sentiment(example_review)\n",
    "\n",
    "print(f\"Review : {example_review}\")\n",
    "print(f\"Sentiment : {sentiment}\")\n",
    "print(f\"Prediction Score : {score}\")"
   ]
  },
  {
   "cell_type": "code",
   "execution_count": null,
   "metadata": {},
   "outputs": [],
   "source": []
  }
 ],
 "metadata": {
  "kernelspec": {
   "display_name": "venv",
   "language": "python",
   "name": "python3"
  },
  "language_info": {
   "codemirror_mode": {
    "name": "ipython",
    "version": 3
   },
   "file_extension": ".py",
   "mimetype": "text/x-python",
   "name": "python",
   "nbconvert_exporter": "python",
   "pygments_lexer": "ipython3",
   "version": "3.11.7"
  }
 },
 "nbformat": 4,
 "nbformat_minor": 2
}
